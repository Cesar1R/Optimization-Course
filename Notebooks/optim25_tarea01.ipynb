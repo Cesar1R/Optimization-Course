{
 "cells": [
  {
   "cell_type": "markdown",
   "id": "8b96cc5e-8d7a-4c02-b7be-b1075abce584",
   "metadata": {},
   "source": [
    "# Curso de Optimización  (DEMAT)\n",
    "# Tarea 1\n",
    "\n",
    "| Descripción:                         | Fechas                  |\n",
    "|--------------------------------------|-------------------------|\n",
    "| Fecha de publicación del documento:  | **Enero  30, 2025**    |\n",
    "| Fecha límite de entrega de la tarea: | **Febrero 9, 2025**    |"
   ]
  },
  {
   "cell_type": "markdown",
   "id": "558ef3f2-d879-42ab-a62b-4b118ec63ec4",
   "metadata": {},
   "source": [
    "## Indicaciones\n",
    "\n",
    "Escriba el código de los algoritmos que se piden en una\n",
    "celda de este notebook. Lo importante es que en el notebook\n",
    "aparezcan los resultados de la pruebas realizadas y que:\n",
    "\n",
    "- Si se requieren otros archivos para poder reproducir los resultados,\n",
    "  para mandar la tarea cree un archivo ZIP en el que incluya\n",
    "  el notebook y los archivos adicionales. \n",
    "- Si todos los códigos para que se requieren para reproducir los\n",
    "  resultados están en el notebook, no hace falta comprimir el notebook \n",
    "  y puede anexar este archivo en la tarea del Classroom.\n",
    "- Exportar el notebook a un archivo PDF y anexarlo en la tarea del\n",
    "  Classroom como un archivo independiente.\n",
    "  **No incluya el PDF dentro del ZIP**, porque la idea que lo pueda accesar \n",
    "  directamente para poner anotaciones y la calificación de cada ejercicio.\n",
    "\n",
    "En la descripción de los ejercicios se nombran algunas variables\n",
    "para el algoritmo, pero sólo es para facilitar la descripción.\n",
    "En la implementación pueden nombrar sus variables como gusten.\n",
    "\n",
    "En los algoritmos se describen las entradas de las\n",
    "funciones. La intención es que tomen en cuenta lo que requiere\n",
    "el algoritmo y que tiene que haber parámetros que permitan\n",
    "controlar el comportamiento del algoritmo,\n",
    "evitando que dejen fijo un valor y que no se puede modificar\n",
    "para hacer diferentes pruebas. Si quieren dar esta información\n",
    "usando un tipo de dato que contenga todos los valores o\n",
    "usar variables por separado, etc., lo pueden hacer y no usen\n",
    "variables globales si no es necesario.\n",
    "\n",
    "Lo mismo aplica para los valores que devuelve una función. \n",
    "Pueden codificar la salida de las funciones de la manera que prefieran.\n",
    "El punto es que podamos tener acceso a los resultados para poder usarlos, \n",
    "y por eso no es conveniente que la función sólo imprima los valores \n",
    "sin devolverlos.\n",
    "\n",
    "Para los ejercicios teóricos puede escribir en la celda la solución, o\n",
    "si escribio la solución en una hoja, puede insertar la(s) foto(s) en la que\n",
    "se vea clara la solución. Si le es más facíl insertar la imagen en un procesador\n",
    "de texto como Word, lo puede utilizar y exportar el documento a PDF y subir \n",
    "el archivo Classroom sin comprimir para poder escribir anotaciones en el PDF."
   ]
  },
  {
   "cell_type": "markdown",
   "id": "9ef98aa0-871a-427e-8bf8-443f685fadeb",
   "metadata": {},
   "source": [
    "----\n",
    "\n",
    "## Ejercicio 1 (3.5 puntos)\n",
    "\n",
    "1. Programar el método de la sección dorada descrito en la diapositiva 16 de la Clase 3.\n",
    "   La función que implementa el método recibe como argumentos la función que se va\n",
    "   a optimizar, los límites $x_l$ y $x_u$ del intervalo de búsqueda, la tolerancia\n",
    "   $\\tau>0$, y el número máximo de iteraciones $N$.\n",
    "   \n",
    "   La función debe devolver el punto $x_k, f(x_k)$, los extremos del último intervalo de búsqueda\n",
    "   $[x_l, x_u]$, el número de iteraciones $k$ realizadas y la variable booleana $bres$\n",
    "   que indica si el algoritmo terminó porque se cumplió el criterio de paso o no.\n",
    "   \n",
    "2. Probar el método con las funciones que se describen en las siguientes\n",
    "   celdas. \n",
    "- Use el intervalo que se especifica en cada caso y $N=50$.\n",
    "- Use como tolerancia $\\tau = \\epsilon_m^{1/3}$, donde $\\epsilon_m$ es el épsilon de la máquina.\n",
    "- Imprima $k, x_k, f_k, x_u-x_l$ y $bres$. \n",
    "\n",
    "### Solución:"
   ]
  },
  {
   "cell_type": "code",
   "execution_count": 14,
   "id": "598e0e46-8e73-4d4b-8632-0a698791e1fb",
   "metadata": {},
   "outputs": [],
   "source": [
    "# Código de la función\n",
    "\n",
    "import numpy as np\n",
    "\n",
    "def met_seccion_dorada(fun, xl, xu, tol, N):\n",
    "    rho = (np.sqrt(5) - 1)/2 \n",
    "\n",
    "    for k in range(1, N+1): \n",
    "        if xu - xl < tol: \n",
    "            if fun(xl) < fun(xu): \n",
    "                xk = xl \n",
    "            else: \n",
    "                xk = xu \n",
    "\n",
    "            return  xk, fun(xk), xl, xu, k, True \n",
    "        \n",
    "        b = rho * (xu - xl) \n",
    "        x1 = xu - b \n",
    "        x3 = xl + b \n",
    "\n",
    "        if fun(x1) < fun(x3):\n",
    "            xu = x3 \n",
    "            xk = x1 \n",
    "        else: \n",
    "            xl = x1 \n",
    "            xk = x3 \n",
    "        \n",
    "    return xk, fun(xk), xl, xu, k, False \n",
    "\n"
   ]
  },
  {
   "cell_type": "code",
   "execution_count": 15,
   "id": "6322a50f",
   "metadata": {},
   "outputs": [],
   "source": [
    "import numpy as np \n",
    "\n",
    "eps = np.finfo(np.float32).eps \n",
    "\n",
    "#Definicion de limites y tolerancia \n",
    "\n",
    "N = 50 # Limite de iteraciones \n",
    "tol = eps**(1/3) # Tolerancia\n",
    "tol2 = 1e-4 \n",
    "tol4 = 1"
   ]
  },
  {
   "cell_type": "code",
   "execution_count": 16,
   "id": "18e7ecee-caa4-49b5-8170-492f6a11f1f9",
   "metadata": {
    "tags": []
   },
   "outputs": [
    {
     "data": {
      "image/png": "[encoded data removed]",
      "text/plain": [
       "<Figure size 640x480 with 1 Axes>"
      ]
     },
     "metadata": {},
     "output_type": "display_data"
    }
   ],
   "source": [
    "import numpy as np\n",
    "import matplotlib.pyplot as plt\n",
    "\n",
    "# Función objetivo 1\n",
    "def fnc1(x): \n",
    "    return np.exp(x) - 6*x - 0.5*x**2\n",
    "\n",
    "xl = -10\n",
    "xu =   5\n",
    "xx = np.linspace(xl, xu, 100)\n",
    "plt.plot(xx, fnc1(xx))\n",
    "plt.show()"
   ]
  },
  {
   "cell_type": "code",
   "execution_count": 17,
   "id": "331b71e2-8ee3-40ca-bd19-a38aaccc8350",
   "metadata": {},
   "outputs": [
    {
     "name": "stdout",
     "output_type": "stream",
     "text": [
      "Parametros tol: 0.00492156660115185, N: 50\n",
      "k: 18, \n",
      "xk: 2.0891664176072227, \n",
      "fk: -6.6391281363350885, \n",
      "xu - xl: 0.004200503731088379, \n",
      "bres: True\n"
     ]
    }
   ],
   "source": [
    "# Prueba del algoritmo\n",
    "\n",
    "\n",
    "xk, fk,  xl, xu, k, flag = met_seccion_dorada(fnc1, xl, xu, tol, N)\n",
    "\n",
    "print(f\"Parametros tol: {tol}, N: {N}\")\n",
    "print(f\"k: {k}, \\nxk: {xk}, \\nfk: {fk}, \\nxu - xl: {xu - xl}, \\nbres: {flag}\")\n"
   ]
  },
  {
   "cell_type": "code",
   "execution_count": 18,
   "id": "8a86191f-b091-4265-bfe9-a67f70557765",
   "metadata": {
    "tags": []
   },
   "outputs": [
    {
     "data": {
      "image/png": "[encoded data removed]",
      "text/plain": [
       "<Figure size 640x480 with 1 Axes>"
      ]
     },
     "metadata": {},
     "output_type": "display_data"
    }
   ],
   "source": [
    "# Función objetivo 2\n",
    "def fnc2(x): \n",
    "    return 1.5*x**4 - 3*x**2 + 2\n",
    "\n",
    "xl = -2\n",
    "xu =  2\n",
    "xx = np.linspace(xl, xu, 100)\n",
    "plt.plot(xx, fnc2(xx))\n",
    "plt.show()"
   ]
  },
  {
   "cell_type": "code",
   "execution_count": 19,
   "id": "0be33bf8-275d-4ad1-9db8-3d7c25830945",
   "metadata": {},
   "outputs": [
    {
     "name": "stdout",
     "output_type": "stream",
     "text": [
      "Parametros tol: 0.00492156660115185, N: 50\n",
      "k: 15, \n",
      "xk: 0.9983606548565729, \n",
      "fk: 0.5000160982918558, \n",
      "xu - xl: 0.004744965158568926, \n",
      "bres: True\n"
     ]
    }
   ],
   "source": [
    "# Prueba del algoritmo\n",
    "\n",
    "xk, fk,  xl, xu, k, flag = met_seccion_dorada(fnc2, xl, xu, tol, N)\n",
    "\n",
    "print(f\"Parametros tol: {tol}, N: {N}\")\n",
    "print(f\"k: {k}, \\nxk: {xk}, \\nfk: {fk}, \\nxu - xl: {xu - xl}, \\nbres: {flag}\")\n"
   ]
  },
  {
   "cell_type": "code",
   "execution_count": 20,
   "id": "0926aaef-cab5-4d80-b171-273f2fef122b",
   "metadata": {
    "tags": []
   },
   "outputs": [
    {
     "data": {
      "image/png": "[encoded data removed]",
      "text/plain": [
       "<Figure size 640x480 with 1 Axes>"
      ]
     },
     "metadata": {},
     "output_type": "display_data"
    }
   ],
   "source": [
    "# Función objetivo 3\n",
    "def fnc3(x, fparam=None): \n",
    "    return np.abs(x+1) - np.sin(2*np.abs(x-3)) \n",
    "\n",
    "xl = -4\n",
    "xu =  4\n",
    "xx = np.linspace(xl, xu, 125)\n",
    "plt.plot(xx, fnc3(xx))\n",
    "plt.show()"
   ]
  },
  {
   "cell_type": "code",
   "execution_count": 21,
   "id": "4c8c7870-fdfb-41c4-b225-e5489f1f9c5f",
   "metadata": {},
   "outputs": [
    {
     "name": "stdout",
     "output_type": "stream",
     "text": [
      "Parametros tol: 0.00492156660115185, N: 50\n",
      "k: 17, \n",
      "xk: -1.0012114919019854, \n",
      "fk: -0.9877913066551918, \n",
      "xu - xl: 0.003624830830278536, \n",
      "bres: True\n"
     ]
    }
   ],
   "source": [
    "# Prueba del algoritmo\n",
    "xk, fk,  xl, xu, k, flag = met_seccion_dorada(fnc3, xl, xu, tol, N)\n",
    "\n",
    "print(f\"Parametros tol: {tol}, N: {N}\")\n",
    "print(f\"k: {k}, \\nxk: {xk}, \\nfk: {fk}, \\nxu - xl: {xu - xl}, \\nbres: {flag}\")\n",
    "\n"
   ]
  },
  {
   "cell_type": "markdown",
   "id": "c45f5566-fa68-4b0c-8ba3-27977c997d88",
   "metadata": {},
   "source": [
    "_\n",
    "\n",
    "```\n",
    "\n",
    "\n",
    "\n",
    "\n",
    "\n",
    "\n",
    "\n",
    "```\n",
    "\n",
    "---"
   ]
  },
  {
   "cell_type": "markdown",
   "id": "8c362099-3052-49a5-a4b5-ea496d9c5f14",
   "metadata": {},
   "source": [
    "## Ejercicio 2 (3 puntos)\n",
    "\n",
    "La función de Griewangk en $\\mathbb{R}^2$ se define como\n",
    "\n",
    "$$ f(\\mathbf{x}) = f(x_1,x_2) = \\frac{x^2_1 + x^2_2}{4000} - \\cos(x_1)\\cos\\left(\\frac{x_2}{\\sqrt{2}}\\right) + 1 $$\n",
    "\n",
    "Dado el punto $\\mathbf{x}_k$ y la dirección $\\mathbf{d}_k$, definimos la función \n",
    "$g(t; \\mathbf{x}_k, \\mathbf{d}_k) = f(\\mathbf{x}_k + t\\mathbf{d}_k)$.\n",
    "\n",
    "1. Programe las funciones  $f(\\mathbf{x})$ y $g(t; \\mathbf{x}_k, \\mathbf{d}_k)$.\n",
    "2. Calcule de manera analítica el gradiente de $f(\\mathbf{x})$ y programe la función correspondiente.\n",
    "3. Sean $\\mathbf{x}_0 = (3,0.5)$, $\\mathbf{d}_0 = \\mathbf{p}/\\|\\mathbf{p}\\|$, donde \n",
    "   $\\mathbf{p} = (2,1)$, y $\\mathbf{g}_0 = \\nabla f(\\mathbf{x}_0)/\\|\\nabla f(\\mathbf{x}_0)\\|$.\n",
    "   Calcule el valor de la derivada direccional de $f$ en $\\mathbf{x}_0$ en la dirección\n",
    "   $\\mathbf{d}_0$ y en la dirección $-\\mathbf{g}_0$. Imprima estos valores.\n",
    "4. Genere una gráfica que muestre  la gráfica de $g(t; \\mathbf{x}_0, \\mathbf{d}_0)$ y \n",
    "   $g(t; \\mathbf{x}_0, -\\mathbf{g}_0)$ para $t \\in [0,3]$.\n",
    "5. Aplique el método de la sección dorada para minimizar la función $g(t; \\mathbf{x}_0, -\\mathbf{g}_0)$\n",
    "   en el intervalo $[0, 3]$. Si $t_0$ es el minimizador y $\\mathbf{x}_1 = \\mathbf{x}_0 - t_0\\mathbf{g}_0$,\n",
    "   imprima $\\mathbf{x}_0$, $f(\\mathbf{x}_0)$, $t_0$, $\\mathbf{x}_1$, $f(\\mathbf{x}_1)$.\n",
    "6. Repita los puntos 4 y 5 usando el intervalo $[0,10]$.\n",
    "\n",
    "### Solución."
   ]
  },
  {
   "cell_type": "code",
   "execution_count": 22,
   "id": "d0b1120d-69fa-4ffc-a142-527da9963713",
   "metadata": {},
   "outputs": [],
   "source": [
    "import numpy as np \n",
    "\n",
    "def fun_f (x): \n",
    "    x1 = x[0]\n",
    "    x2 = x[1]\n",
    "\n",
    "    return (x1**2 + x2**2)/4000 - np.cos(x1) * np.cos(x2 / np.sqrt(2)) + 1 \n",
    "\n",
    "def fun_g (t, x, d): \n",
    "    d = np.asarray(d) \n",
    "    return fun_f(x + t * d) "
   ]
  },
  {
   "cell_type": "markdown",
   "id": "3af96220",
   "metadata": {},
   "source": [
    "2. Veamos que \n",
    "\n",
    "$$\n",
    "\\nabla f (\\bold{x}) = (\\partial_{x_1} f (x_1, x_2), \\partial_{x_2} f(x_1, x_2)). \n",
    "$$\n",
    "\n",
    "Por un lado tenemos que \n",
    "\n",
    "$$\n",
    "\\begin{align*}\n",
    "\\partial _{x_1} f(x_1, x_2) \n",
    "&= \\partial_{x_1} \\left (\\frac{x^2_1 + x^2_2}{4000} - \\cos(x_1)\\cos\\left(\\frac{x_2}{\\sqrt{2}}\\right) + 1 \\right) \\\\\n",
    "&= \\frac{x_1}{2000} + \\sin(x_1)\\cos\\left(\\frac{x_2}{\\sqrt{2}}\\right). \n",
    "\\end{align*} \\\\ \n",
    "$$\n",
    "\n",
    "Por otro lado\n",
    "\n",
    "\n",
    "$$\n",
    "\\begin{align*}\n",
    "\\partial_{x_2} f(x_1, x_2) \n",
    "&= \\partial_{x_2} \\left (\\frac{x^2_1 + x^2_2}{4000} - \\cos(x_1)\\cos\\left(\\frac{x_2}{\\sqrt{2}}\\right) + 1 \\right ) \\\\ \n",
    "&= \\frac{x_2}{2000} + \\frac{\\cos(x_1)\\sin\\left(\\frac{x_2}{\\sqrt{2}}\\right)}{\\sqrt{2}}\n",
    "\\end{align*}\n",
    "$$\n",
    "\n",
    "Por lo tanto tenemos que \n",
    "\n",
    "$$\n",
    "\\nabla f (\\bold{x}) = \\left (  \\frac{x_1}{2000} + \\sin(x_1)\\cos\\left(\\frac{x_2}{\\sqrt{2}}\\right),  \\frac{x_2}{2000} + \\frac{\\cos(x_1)\\sin\\left(\\frac{x_2}{\\sqrt{2}}\\right)}{\\sqrt{2}}\\right ). \n",
    "$$\n",
    "\n",
    "En la siguiente celda está implementada la función que hace el calculo del gradiente para un punto $(x_1, x_2)$. \n",
    "\n",
    "3. Recordemos que dado un vector de direcci\\'on $d$ y un vector $x$, la derivada direccional se obtiene de la siguiente expresión \n",
    "$$ D_df(\\bold x) = \\nabla f(\\bold x) \\cdot d. $$\n",
    "\n",
    "Para obtener la derivada direccional de interés, calculemos primero el valor de $d_0$\n",
    "\n",
    "$$\n",
    "d_0 = \\frac{p}{\\|p\\|} = \\frac{(2, 1)}{\\sqrt{2^2 + 1^1}} = \\frac{(2, 1)}{\\sqrt{5}} = \\left (\\frac 2 {\\sqrt{5}}, \\frac 1 {\\sqrt{5}} \\right). \n",
    "$$\n",
    "\n",
    "Luego, \n",
    "\n",
    "$$\n",
    "\\begin{align*}\n",
    "    D_{d_0} f(x_0) \n",
    "    &= \\nabla f (3, 0.5) \\cdot \\left (\\frac 2 {\\sqrt{5}}, \\frac 1 {\\sqrt{5}} \\right) \\\\ \n",
    "    &= \\left (  \\frac{3}{2000} + \\sin(3)\\cos\\left(\\frac{0.5}{\\sqrt{2}}\\right),  \\frac{0.5}{2000} + \\frac{\\cos(3)\\sin\\left(\\frac{0.5}{\\sqrt{2}}\\right)}{\\sqrt{2}}\\right )\\cdot \\left (\\frac 2 {\\sqrt{5}}, \\frac 1 {\\sqrt{5}} \\right).\n",
    "\\end{align*}\n",
    "$$\n",
    "\n",
    "Por otro lado, \n",
    "\n",
    "$$\n",
    "    D_{g_0} f(x_0)  = \\nabla f(3, 0.5) \\cdot \\frac{ \\nabla f(\\mathbf{x}_0)}{\\|\\nabla f(\\mathbf{x}_0)\\|}. \n",
    "$$\n",
    "\n",
    "En la siguiente celda obtendremos los valores numericamente. "
   ]
  },
  {
   "cell_type": "code",
   "execution_count": 25,
   "id": "1c04bd9b",
   "metadata": {},
   "outputs": [
    {
     "name": "stdout",
     "output_type": "stream",
     "text": [
      "Valor de la derivada en direccion de p: 0.011475034596120023\n",
      "Valor de la derivada en direccion de g_0: 0.27667848944420204\n"
     ]
    }
   ],
   "source": [
    "import numpy as np \n",
    "\n",
    "#Funcion del gradiente del punto 2. \n",
    "def der_par (x1, x2): \n",
    "    p1 = x1/2000 + np.sin(x1) * np.cos(x2 / np.sqrt(2)) \n",
    "    p2 = x2/2000 + (np.cos(x1) * np.sin(x2 / np.sqrt(2)))/np.sqrt(2) \n",
    "\n",
    "    return p1, p2\n",
    "\n",
    "\n",
    "#Calculos correspondientes al punto 3.\n",
    "\n",
    "val_f0 = np.array(der_par(3, 0.5)) #Valo del gradiente valuada en x0\n",
    "\n",
    "norm = np.linalg.norm (val_f0, ord=2) # Norma del gradiente en el punto x0\n",
    "\n",
    "d0 = (1/np.sqrt(5)) * np.array([2, 1]) \n",
    "g0 = (1/norm) * np.array([val_f0[0],  val_f0[1]])\n",
    "\n",
    "print(f\"Valor de la derivada en direccion de p: {val_f0 @ d0 }\")\n",
    "print(f\"Valor de la derivada en direccion de g_0: {val_f0 @ g0 }\")\n"
   ]
  },
  {
   "cell_type": "code",
   "execution_count": 32,
   "id": "0123a7c4",
   "metadata": {},
   "outputs": [
    {
     "data": {
      "image/png": "[encoded data removed]",
      "text/plain": [
       "<Figure size 640x480 with 1 Axes>"
      ]
     },
     "metadata": {},
     "output_type": "display_data"
    },
    {
     "name": "stdout",
     "output_type": "stream",
     "text": [
      "Resultados para -g0\n",
      "x0:  [3, 0.5] \n",
      "f(x0):  1.9310723123875322 \n",
      "t0:  2.456103380167501 \n",
      "x1:  [1.81143139 2.64936002] \n",
      "f(x1) 0.9315587863990931\n",
      "\n",
      "Resultados para d0\n",
      "x0:  [3, 0.5] \n",
      "f(x0):  1.9310723123875322 \n",
      "t0:  2.781284459713032 \n",
      "x1:  [1.6540683  2.93392915] \n",
      "f(x1) 0.962681941367265\n"
     ]
    }
   ],
   "source": [
    "#Codigo del punto 4 \n",
    "import matplotlib.pyplot as plt \n",
    "\n",
    "x0 = [3, 0.5]\n",
    "\n",
    "inter = np.linspace(0, 3, 125) \n",
    "imagen = [fun_g(t, x0, -g0 ) for t in inter]\n",
    "imagen2 = [fun_g(t, x0, d0) for t in inter]\n",
    "plt.plot(inter ,  imagen, color ='blue', label='g(t; x0, -g0)')\n",
    "plt.plot(inter, imagen2, color='red', label = \"g(t; x0, d0)\")\n",
    "plt.plot(g0[0], g0[1], marker = 'o', color = 'black', label = 'g0')\n",
    "plt.plot(d0[0], d0[1], marker = 'o', color = 'gray', label = 'd0')\n",
    "plt.legend()\n",
    "plt.legend()\n",
    "plt.grid(True)\n",
    "plt.show()\n",
    "\n",
    "\n",
    "\n",
    "xl = 0 \n",
    "xu = 3 \n",
    "tol = 1e-5\n",
    "N = 1000\n",
    "\n",
    "t0, fk, xl, xu, k, con = met_seccion_dorada(lambda t: fun_g(t, x0, -g0), xl, xu, tol, N)\n",
    "\n",
    "x1 = x0 - t0 * g0\n",
    "\n",
    "print(\"Resultados para -g0\")\n",
    "print(\"x0: \", x0,  \"\\nf(x0): \", fun_f(x0), \"\\nt0: \" , t0, \"\\nx1: \", x1 , \"\\nf(x1)\",  fun_f(x1))\n",
    "\n",
    "\n",
    "print(\"\\nResultados para d0\")\n",
    "\n",
    "xl = 0 \n",
    "xu = 3 \n",
    "tol = 1e-5\n",
    "N = 1000\n",
    "t0, fk,  xl, xu, k, con = met_seccion_dorada(lambda t: fun_g(t, x0, d0), xl, xu, tol, N)\n",
    "x1 = x0 - t0 * g0\n",
    "\n",
    "print(\"x0: \", x0,  \"\\nf(x0): \", fun_f(x0), \"\\nt0: \" , t0, \"\\nx1: \", x1 , \"\\nf(x1)\",  fun_f(x1))\n",
    "\n",
    "\n"
   ]
  },
  {
   "cell_type": "code",
   "execution_count": 34,
   "id": "746e5494",
   "metadata": {},
   "outputs": [
    {
     "data": {
      "image/png": "[encoded data removed]",
      "text/plain": [
       "<Figure size 640x480 with 1 Axes>"
      ]
     },
     "metadata": {},
     "output_type": "display_data"
    },
    {
     "name": "stdout",
     "output_type": "stream",
     "text": [
      "Resultados para -g0\n",
      "x0:  [3, 0.5] \n",
      "f(x0):  1.9310723123875322 \n",
      "t0:  2.456103537005115 \n",
      "x1:  [1.81143132 2.64936015] \n",
      "f(x1) 0.931558786398813\n",
      "\n",
      "Resultados para d0\n",
      "x0:  [3, 0.5] \n",
      "f(x0):  1.9310723123875322 \n",
      "t0:  7.368885197494004 \n",
      "x1:  [-0.56598411  6.94858328] \n",
      "f(x1) 0.8436334028837287\n"
     ]
    }
   ],
   "source": [
    "#Codigo del punto 4 \n",
    "import matplotlib.pyplot as plt \n",
    "\n",
    "x0 = [3, 0.5]\n",
    "\n",
    "inter = np.linspace(0, 10, 125) \n",
    "imagen = [fun_g(t, x0, -g0 ) for t in inter] # grafica de g(t, x0, -g0)\n",
    "imagen2 = [fun_g(t, x0, d0) for t in inter] # grafica de g(t, x0, d0)\n",
    "plt.plot(inter ,  imagen, color ='blue', label='g(t; x0, -g0)')\n",
    "plt.plot(inter, imagen2, color='red', label = \"g(t; x0, d0)\")\n",
    "plt.plot(g0[0], g0[1], marker = 'o', color = 'black', label = 'g0')\n",
    "plt.plot(d0[0], d0[1], marker = 'o', color = 'gray', label = 'd0')\n",
    "plt.legend()\n",
    "plt.grid(True)\n",
    "plt.show()\n",
    "\n",
    "\n",
    "xl = 0\n",
    "xu =  10\n",
    "tol = 1e-5\n",
    "N = 1000\n",
    "\n",
    "t0, fk,  xl, xu, k, con = met_seccion_dorada(lambda t: fun_g(t, x0, -g0), xl, xu, tol, N)\n",
    "\n",
    "x1 = x0 - t0 * g0\n",
    "print(\"Resultados para -g0\")\n",
    "print(\"x0: \", x0,  \"\\nf(x0): \", fun_f(x0), \"\\nt0: \" , t0, \"\\nx1: \", x1 , \"\\nf(x1)\",  fun_f(x1))\n",
    "\n",
    "\n",
    "print(\"\\nResultados para d0\")\n",
    "\n",
    "xl = 0\n",
    "xu = 10\n",
    "tol = 1e-5\n",
    "N = 1000\n",
    "t0, fk, xl, xu, k, con = met_seccion_dorada(lambda t: fun_g(t, x0, d0), xl, xu, tol, N)\n",
    "x1 = x0 - t0 * g0\n",
    "\n",
    "print(\"x0: \", x0,  \"\\nf(x0): \", fun_f(x0), \"\\nt0: \" , t0, \"\\nx1: \", x1 , \"\\nf(x1)\",  fun_f(x1))\n",
    "\n",
    "\n",
    "\n"
   ]
  },
  {
   "cell_type": "markdown",
   "id": "e7fd55bd",
   "metadata": {},
   "source": [
    "Observemos que el minimizador de la función $g(t, x0, -g0)$ para el intervalo [0, 10] es el mismo que al aplicar el algoritmo para el intervalo [0,3], sin embargo, en la gráfica es sencillo ver que el valor en el punto $t0$, no es el mínimo de la función, para poder obener el valor real del mínimo de la función, podemos aplicar el algoritmo en el intervalo [1, 10]. "
   ]
  },
  {
   "cell_type": "code",
   "execution_count": 35,
   "id": "94bae9a9",
   "metadata": {},
   "outputs": [
    {
     "name": "stdout",
     "output_type": "stream",
     "text": [
      "Resultados para -g0\n",
      "x0:  [3, 0.5] \n",
      "f(x0):  1.9310723123875322 \n",
      "t0:  8.199511365362689 \n",
      "x1:  [-0.96794447  7.67547234] \n",
      "f(x1) 0.6432358297783074\n"
     ]
    }
   ],
   "source": [
    "t0, fk,  xl, xu, k, con = met_seccion_dorada(lambda t: fun_g(t, x0, -g0), 1, 10, tol, N)\n",
    "\n",
    "x1 = x0 - t0 * g0\n",
    "print(\"Resultados para -g0\")\n",
    "print(\"x0: \", x0,  \"\\nf(x0): \", fun_f(x0), \"\\nt0: \" , t0, \"\\nx1: \", x1 , \"\\nf(x1)\",  fun_f(x1))\n"
   ]
  },
  {
   "cell_type": "markdown",
   "id": "0b92e93e",
   "metadata": {},
   "source": [
    "Notemos que gracias a este cambio retorna un resultado acorde a lo que observamos en la gráfica. "
   ]
  },
  {
   "cell_type": "markdown",
   "id": "c65c6bd8-30d3-4892-bab7-0c49be603210",
   "metadata": {},
   "source": [
    "--\n",
    "\n",
    "```\n",
    "\n",
    "\n",
    "\n",
    "\n",
    "\n",
    "\n",
    "\n",
    "```\n",
    "\n",
    "---"
   ]
  },
  {
   "cell_type": "markdown",
   "id": "3de9f470-5e1c-405c-a865-1357c809922b",
   "metadata": {},
   "source": [
    "## Ejercicio 3 (1.5 puntos)\n",
    "\n",
    "Sean $\\mathbf{a}, \\mathbf{b} \\in \\mathbb{R}^n$. Calcule el gradiente y la Hessiana de la\n",
    "función  $f(\\mathbf{x}) = (\\mathbf{a}^\\top \\mathbf{x})(\\mathbf{b}^\\top \\mathbf{x})$.\n",
    "\n",
    "### Solución:"
   ]
  },
  {
   "cell_type": "markdown",
   "id": "1b8f42a4-c895-4901-8e4a-c42ed017d3dc",
   "metadata": {},
   "source": [
    "Sea $\\mathbf{a}, \\mathbf{b} $ y $f$ como en el enunciado. Definamos $f(\\mathbf x) = g(\\mathbf x)h(\\mathbf x)$, dónde $g(\\mathbf x) = \\mathbf a^\\top \\mathbf x$ y $h(\\mathbf x) = \\mathbf b^\\top \\mathbf x$, sabemos que\n",
    "\n",
    "$$\\nabla f(\\mathbf x) = h(\\mathbf x) \\nabla g( \\mathbf x)  + g( \\mathbf x) \\nabla h(\\mathbf x),$$\n",
    "\n",
    "de lo que podemos concluir que \n",
    "\n",
    "$$\n",
    "\\nabla f(\\mathbf x) = (\\mathbf  b^\\top  \\mathbf x) \\mathbf  a + ( \\mathbf  a ^\\top x)  \\mathbf  b.  \n",
    "$$\n",
    "\n",
    "\n",
    "\n",
    "Luego, tengamos en cuenta que la matriz Hessiana se compone de las segundas derivadas, por lo tanto, sin perdida de generalidad, tenemos dos posibles casos, donde es la doble derivada de la variable $x_k$ o la derivada $\\partial _{km} f(\\bold{x})$ para algún $m \\in \\{ 1, 2, \\ldots, n\\}$. Comencemos calculando la entrada $km$ de la matriz\n",
    "\n",
    "$$\n",
    "\\begin{align*}\n",
    "\\partial_{km} f(\\bold{x}) \n",
    "&= \\partial_{m} \\left [  \\left ( a_k \\right) \\left ( \\sum_{j = 1} ^n b_j x_j \\right)    + \\left ( \\sum_{i = 1} ^n a_i x_i \\right) \\left ( b_k \\right) \\right ] \\\\ \n",
    "&= \\partial_{m}  \\left ( a_k \\right) \\left ( \\sum_{j = 1} ^n b_j x_j \\right)    +  \\partial_{m} \\left ( \\sum_{i = 1} ^n a_i x_i \\right) \\left ( b_k\\right)  \\\\ \n",
    "&= a_k  b_m + a_m  b_k. \n",
    "\\end{align*}\n",
    "$$\n",
    "\n",
    "Por otro lado, obtengamos la entrada $kk$\n",
    "\n",
    "$$\n",
    "\\begin{align*}\n",
    "\\partial_{k^2} f(\\bold{x}) \n",
    "&= \\partial_{k} \\left [  \\left ( a_k  \\right) \\left ( \\sum_{j = 1} ^n b_j x_j \\right)    + \\left ( \\sum_{i = 1} ^n a_i x_i \\right) \\left ( b_k\\right) \\right ] \\\\ \n",
    "&= \\partial_{k}  \\left ( a_k \\right) \\left ( \\sum_{j = 1} ^n b_j x_j \\right)    +  \\partial_{k} \\left ( \\sum_{i = 1} ^n a_i x_i \\right) \\left ( b_k \\right)  \\\\ \n",
    "&= 2 a_k b_k.\n",
    "\\end{align*}\n",
    "$$\n",
    "\n",
    "Así, hemos obtenido la entrada $kk$ y la entrada $km$ de la matriz Hessiana. \n",
    "\n",
    "Analogamente al primer inciso, podemos calcular la Hessiana de la siguiente manera.\n",
    "$$\n",
    "\\begin{align*}\n",
    "H(f(\\mathbf x)) \n",
    "&= \\nabla \\left [  (\\mathbf  b^\\top  \\mathbf x) \\mathbf  a + ( \\mathbf  a ^\\top x)  \\mathbf  b \\right ] \\\\ \n",
    "&=   \\nabla  (\\mathbf  b^\\top  \\mathbf x) \\mathbf  a +  \\nabla ( \\mathbf  a ^\\top x)  \\mathbf  b\\\\ \n",
    "&= \\mathbf  b^\\top  \\mathbf  a +   \\mathbf  a ^\\top \\mathbf  b.\\\\ \n",
    "\\end{align*}\n",
    "$$\n",
    "\n",
    "Obteniendo las expresiones deseadas. \n",
    "\n",
    "\n",
    "\n",
    "\n",
    "\n"
   ]
  },
  {
   "cell_type": "markdown",
   "id": "2fb01e53-771e-467e-8f5f-50c7399319e8",
   "metadata": {},
   "source": [
    "_\n",
    "\n",
    "```\n",
    "\n",
    "\n",
    "\n",
    "\n",
    "\n",
    "\n",
    "\n",
    "```\n",
    "\n",
    "---"
   ]
  },
  {
   "cell_type": "markdown",
   "id": "1b284ac0-e63c-442b-948d-8a74247183d2",
   "metadata": {},
   "source": [
    "## Ejercicio 4 (2 puntos) \n",
    "\n",
    "Usando el método de los multiplicadores de Lagrange, encuentre el punto que está en la intersección del plano \n",
    "$x + \\frac{1}{2}(y+z) =0$ y la esfera $x^2 + y^2 + z^2 = 1$ tal que su abscisa tiene el menor valor. \n",
    "\n",
    "Escriba el problema de optimización que hay resolver y el procedimiento para calcular el resultado.\n",
    "\n",
    "\n",
    "### Solución:"
   ]
  },
  {
   "cell_type": "markdown",
   "id": "65b760b5-90a3-45ad-8d06-120176e3d2bd",
   "metadata": {},
   "source": [
    "Buscamos resolver el siguiente problema de optimización\n",
    "\n",
    "$$\n",
    "\\min_{x} x, \\quad \\text{sujeto a } \\quad x + \\frac{1}{2}(y + z) = 0, \\quad x^2 + y^2 + z^2 = 1.\n",
    "$$\n",
    "\n",
    "Escribamos la función Lagrangiana del problema descrito\n",
    "\n",
    "$$\n",
    "L(x, y, z, \\lambda_1, \\lambda_2) = x - \\lambda_1 \\left(x + \\frac{1}{2}(y + z)\\right) - \\lambda_2 \\left(x^2 + y^2 + z^2 - 1\\right).\n",
    "$$\n",
    "\n",
    "Obtengamos sus derivadas parciales\n",
    "\n",
    "$$\n",
    "\\begin{align*}\n",
    "\\partial_x L(x, y, z, \\lambda_1, \\lambda_2) &= 1 - \\lambda_1 - 2\\lambda_2 x, \\\\\n",
    "\\partial_y L(x, y, z, \\lambda_1, \\lambda_2) &= -\\frac{\\lambda_1}{2} - 2\\lambda_2 y, \\\\\n",
    "\\partial_z L(x, y, z, \\lambda_1, \\lambda_2) &= -\\frac{\\lambda_1}{2} - 2\\lambda_2 z, \\\\\n",
    "\\partial_{\\lambda_1} L(x, y, z, \\lambda_1, \\lambda_2) &= -(x + \\frac{1}{2}(y + z)),  \\\\\n",
    "\\partial_{\\lambda_2} L(x, y, z, \\lambda_1, \\lambda_2) &= -(x^2 + y^2 + z^2 - 1).\n",
    "\\end{align*}\n",
    "$$\n",
    "\n",
    "Nos interesa resolver el sistema de ecuaciones donde todas las ecuaciones anteriores están igualadas a 0. De las primeras tres ecuaciones obtenemos expresiones para \\(x\\), \\(y\\) y \\(z\\) despejando los multiplicadores de Lagrange. Igualando las derivadas a 0 obtenemos que\n",
    "\n",
    "$$\n",
    "\\lambda_1 = 1 - 2\\lambda_2 x, \\quad \\lambda_1 = -4\\lambda_2 y, \\quad \\lambda_1 = -4\\lambda_2 z.\n",
    "$$\n",
    "\n",
    "Esto implica que\n",
    "\n",
    "$$\n",
    "y = z.\n",
    "$$\n",
    "\n",
    "Sustituyendo en la ecuación del plano $x + \\frac{1}{2}(y + z) = 0$, obtenemos\n",
    "\n",
    "$$\n",
    "x + \\frac{1}{2}(2y) = 0 \\quad \\Rightarrow \\quad x + y = 0 \\quad \\Rightarrow \\quad x = -y.\n",
    "$$\n",
    "\n",
    "Sustituyendo en la ecuación de la esfera $x^2 + y^2 + z^2 = 1$, obtenemos\n",
    "\n",
    "$$\n",
    "(-y)^2 + y^2 + y^2 = 1 \\quad \\Rightarrow \\quad y^2 + y^2 + y^2 = 1 \\quad \\Rightarrow \\quad 3y^2 = 1 \\quad \\Rightarrow \\quad y^2 = \\frac{1}{3}.\n",
    "$$\n",
    "\n",
    "Por lo tanto,\n",
    "\n",
    "$$\n",
    "y = \\pm \\frac{1}{\\sqrt{3}}, \\quad x = -y = \\pm \\frac{1}{\\sqrt{3}}, \\quad z = y = \\pm \\frac{1}{\\sqrt{3}}.\n",
    "$$\n",
    "\n",
    "El valor mínimo de \\(x\\) es\n",
    "\n",
    "$$\n",
    "{x = -\\frac{1}{\\sqrt{3}}}.\n",
    "$$\n",
    "\n",
    "Así que el punto de la intersección del plano y la esfera, donde la abscisa \\(x\\) tiene el menor valor, es:\n",
    "\n",
    "$$\n",
    "{\\left( -\\frac{1}{\\sqrt{3}}, \\frac{1}{\\sqrt{3}}, \\frac{1}{\\sqrt{3}} \\right)}.\n",
    "$$\n"
   ]
  },
  {
   "cell_type": "markdown",
   "id": "fb37352a-691c-4110-848e-637caa087599",
   "metadata": {},
   "source": [
    "_\n",
    "\n",
    "```\n",
    "\n",
    "\n",
    "\n",
    "\n",
    "\n",
    "\n",
    "\n",
    "```\n",
    "\n",
    "---"
   ]
  }
 ],
 "metadata": {
  "kernelspec": {
   "display_name": "Tareas",
   "language": "python",
   "name": "python3"
  },
  "language_info": {
   "codemirror_mode": {
    "name": "ipython",
    "version": 3
   },
   "file_extension": ".py",
   "mimetype": "text/x-python",
   "name": "python",
   "nbconvert_exporter": "python",
   "pygments_lexer": "ipython3",
   "version": "3.12.2"
  }
 },
 "nbformat": 4,
 "nbformat_minor": 5
}
